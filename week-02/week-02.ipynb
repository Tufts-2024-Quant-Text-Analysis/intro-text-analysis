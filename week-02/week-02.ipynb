{
 "cells": [
  {
   "cell_type": "markdown",
   "metadata": {},
   "source": [
    "# Week 2\n",
    "\n",
    "## Resources\n",
    "\n",
    "- https://ipython.readthedocs.io/en/stable/interactive/magics.html\n",
    "- https://www.opengreekandlatin.org/what-is-a-cts-urn/\n",
    "- https://cite-architecture.github.io/xcite/ctsurn-quick/\n",
    "\n",
    "## Catch up and review\n",
    "\n",
    "### Reading a file into memory\n",
    "\n",
    "Can you read one of the files from last week into memory? Enter the code to do so below."
   ]
  },
  {
   "cell_type": "code",
   "execution_count": null,
   "metadata": {},
   "outputs": [],
   "source": [
    "# your code for reading a file goes here.\n",
    "\n",
    "with open('../week-01/austen-pride-and-prejudice.txt') as f:\n",
    "    print(f.readlines())"
   ]
  },
  {
   "cell_type": "markdown",
   "metadata": {},
   "source": [
    "## Git forking, branching, and pushing\n",
    "\n",
    "In this section, we're going to talk about git forking, branching, and pushing, as this will be the main way that you'll submit homework.\n",
    "\n",
    "First, you'll want to navigate to the GitHub repository for this course (https://github.com/Tufts-2024-Quant-Text-Analysis/intro-text-analysis) and press the \"Fork\" button:\n",
    "\n",
    "![Screenshot of the Fork button](./img/fork.png)\n",
    "\n",
    "You should then see a menu that looks something like this:\n",
    "\n",
    "![Screenshot of Fork menu](./img/fork-menu.png)\n",
    "\n",
    "You can rename the repository if you wish, just make sure to keep track of what you rename it to!\n",
    "\n",
    "Once you have forked the main repository, go to your fork and click the \"Code\" button:\n",
    "\n",
    "![Screenshot of the Code button](./img/code.png)\n",
    "\n",
    "You can then clone your fork by copying the URL from the dropdown and entering the following in your terminal:\n",
    "\n",
    "```sh\n",
    "git clone YOUR_GIT_URL_HERE\n",
    "```\n",
    "\n",
    "### Setting up an upstream\n",
    "\n",
    "By default, your own fork of the repository will be the `origin` for this clone. It is a convention when working with git forks to call the \"main\" repository `upstream`. You can add `upstream` as a remote by running the following from within your clone:\n",
    "\n",
    "```sh\n",
    "git remote add upstream https://github.com/Tufts-2024-Quant-Text-Analysis/intro-text-analysis.git\n",
    "```\n",
    "\n",
    "If you know run `git remote -v` from that directory, you should see both `origin` and `upstream`.\n",
    "\n",
    "**NEVER** push directly to `upstream`. Instead, **`pull`** from `upstream` and **`push`** to your fork.\n",
    "\n",
    "Whenever you push your work to your fork, you can navigate to it (on the web) and see an option to create a Pull Request:\n",
    "\n",
    "![Screenshot of pull request](./img/pull-request.png)\n",
    "\n",
    "Try it now: create a small change (you can just add one of your answers to Week 01), and push it to your fork.\n",
    "\n",
    "I will create a branch that matches each of your usernames on the main repository. Open your pull request against this branch.\n",
    "\n",
    "Now we have an easy way of looking at the changes that you've made and comparing them to the main repository without clobbering each other's work.\n",
    "\n"
   ]
  },
  {
   "cell_type": "markdown",
   "metadata": {},
   "source": [
    "## Visualizing Data \n",
    "\n",
    "### Discuss \n",
    "\n",
    "- What kind(s) of visualization would be best for showing the relative frequencies of a verb like καλός in the Platonic corpus versus Thucydides?\n",
    "\n",
    "Refer to @Brezina2018 [ch. 1] if you feel stuck.\n",
    "\n",
    "## Installing packages\n",
    "\n",
    "Inside a Jupyter/Colab notebook (they're functionally the same thing), you can install packages with the magic command `%pip`. See [here](https://ipython.readthedocs.io/en/stable/interactive/magics.html) for more info on iPython/Jupyter Notebook magic commands.\n",
    "\n",
    "We're going to need the `lxml` package in a moment, so let's go ahead and install it."
   ]
  },
  {
   "cell_type": "code",
   "execution_count": null,
   "metadata": {},
   "outputs": [],
   "source": [
    "%pip install lxml"
   ]
  },
  {
   "cell_type": "markdown",
   "metadata": {},
   "source": [
    "## CTS URNs\n",
    "\n",
    "Before we go further, we're going to need to talk a bit about Canonical Text Services Universal Resource Names -- or **CTS URN**s for short.\n",
    "\n",
    "### Collection\n",
    "\n",
    "CTS URNs allow us to specify text down to the token level. They work as references to specific components of a larger corpus, starting with the **collection**.\n",
    "\n",
    "```\n",
    "urn:cts:greekLit\n",
    "```\n",
    "\n",
    "The prefix `urn:cts:` is required by the protocol; `greekLit` refers to the collection of Greek texts known to the CTS implementation.\n",
    "\n",
    "### Work Component\n",
    "\n",
    "The next element in a CTS URN is collectively referred to as the **work component**. At a minimum, it contains a reference to a **text group**. \n",
    "\n",
    "#### Text Group\n",
    "\n",
    "Text groups are often what we think of as authors, but by treating them as placeholders not for a specific writer but for canonically related texts, we can stay one step ahead of issues about attribution etc. Text groups are not meant to make any assertions about authorship; they're just a convenient way to find things.\n",
    "\n",
    "For example, the _Rhesus_ is contained within the Euripides text group by convention; we aren't weighing in on that vexed authorship question.\n",
    "\n",
    "```\n",
    "urn:cts:greekLit:tlg0525\n",
    "```\n",
    "\n",
    "`tlg0525` refers to Pausanias. You can use https://cts.perseids.org/ to look up URNs, but since we'll be working a lot with Pausanias' _Periegesis_, it might be a good idea to get used to tlg0525.\n",
    "\n",
    "Why `tlg0525` and not just `pausanias`? Names and their orthography are hard to standardize. CTS URNs are designed to be **universal** and portable. Using names as identifiers too early on would lead to unnecessary confusion.\n",
    "\n",
    "Should we have settled on a system other than the numbering that the TLG came up with? Probably, but we're decades too late to change that now.\n",
    "\n",
    "\n",
    "#### Work\n",
    "\n",
    "Next comes the **work**. This refers to the item -- in our case it will usually be a text -- under the text group.\n",
    "\n",
    "```\n",
    "urn:cts:greekLit:tlg0525.tlg001\n",
    "```\n",
    "\n",
    "Notice that `tlg001` is separated from `tlg0525` by a `.`, rather than a `:`. This is because only major components of the URN are separated by `:`; minor components, such as the sub-components of the major **work component**, are separated by `.`.\n",
    "\n",
    "Works within the work component are usually numbered sequentially for the items that we're dealing with. For Sophocles, the sequence starts with _Trachiniae_, so `urn:cts:greekLit:tlg0011.tlg001` refers to that text; `urn:cts:greekLit:tlg0011.tlg003`, for example, refers to _Ajax_.\n",
    "\n",
    "#### Version\n",
    "\n",
    "For classical texts, which have any number of editions published over the years, the **version** is essential. It helps us point to a specific edition of the work, complete with that editions editorial interventions.\n",
    "\n",
    "```\n",
    "urn:cts:greekLit:tlg0525.tlg001.perseus-grc2\n",
    "```\n",
    "\n",
    "The `perseus-grc2` version refers to the second Greek edition of the _Periegesis_ as published by the Perseus Digital Library.\n",
    "\n",
    "#### Exemplar\n",
    "\n",
    "There is another element in the work component of CTS URNs, the **exemplar**. You might think of this as a reference to the specific _witness_ that you're dealing with.\n",
    "\n",
    "We won't need to use this much for retrieving texts, but if you're working on different ways of handling textual material, you might want to append an exemplar fragment to the work component.\n",
    "\n",
    "For example, if I've made additional annotations to the Perseus _Periegesis_ for my own research that don't necessarily belong in the canonical version (via a pull request vel sim.), I might dub my local exemplar:\n",
    "\n",
    "```\n",
    "urn:cts:greekLit:tlg0525.tlg001.perseus-grc2.charles-annotations\n",
    "```\n",
    "\n",
    "That way I know that this URN refers to an exemplar that contains annotations that might not be present in the parent `perseus-grc2`.\n",
    "\n",
    "I want to emphasize, again, you can get through this course just fine without ever using an exemplar fragment. They're under-specified and confusing, but I mention them here for the sake of completeness.\n",
    "\n",
    "### Passage Component\n",
    "\n",
    "Finally, CTS URNs can have a **passage component**. This is the most specific part of the CTS URN, containing references to precise passages and even words within a text.\n",
    "\n",
    "```\n",
    "urn:cts:greekLit:tlg0525.tlg001.perseus-grc2:1\n",
    "```\n",
    "\n",
    "The `1` above refers to Pausanias Book 1.\n",
    "\n",
    "```\n",
    "urn:cts:greekLit:tlg0525.tlg001.perseus-grc2:1.1\n",
    "```\n",
    "\n",
    "Now it references Book 1, Chapter 1.\n",
    "\n",
    "```\n",
    "urn:cts:greekLit:tlg0525.tlg001.perseus-grc2:1.1-2.2\n",
    "```\n",
    "\n",
    "Now we're talking about a passage spanning Book 1, Chapter 1, to Book 2, Chapter 2.\n",
    "\n",
    "```\n",
    "urn:cts:greekLit:tlg0525.tlg001.perseus-grc2:1.1.5@Κωλιάς\n",
    "```\n",
    "\n",
    "Now we're referencing the token `Κωλιάς` in Book 1, Chapter 1, Section 5.\n",
    "\n",
    "```\n",
    "urn:cts:greekLit:tlg0525.tlg001.perseus-grc2:1.1.5@Κωλιάδος-1.1.5@θεαί\n",
    "```\n",
    "\n",
    "As a final example, this URN references the span from Κωλιάδος to θεαί in Book 1, Chapter 1, Section 5."
   ]
  },
  {
   "cell_type": "markdown",
   "metadata": {},
   "source": [
    "## Getting text to work with\n",
    "\n",
    "So why this detour on CTS URNs? Because it will make it easier for you to find the texts that you need. I've already added the perseus-grc2 version of Pausanias to this repository; you can find it under `tei/tlg0525.tlg001.perseus-grc2.xml`. (The URN is abbreviated because the file comes from the [PerseusDL/canonical-greekLit](https://github.com/PerseusDL/canonical-greekLit/) repo on GitHub.)\n",
    "\n",
    "Ideally, we would be able to request these texts from an API, but as of this writing in August 2024, all of the known APIs are not working. So for now, we will parse these files locally and transform them into data structures that facilitate our analyses.\n",
    "\n",
    "We'll first need to install the MyCapytains library."
   ]
  },
  {
   "cell_type": "code",
   "execution_count": null,
   "metadata": {},
   "outputs": [],
   "source": [
    "%pip install MyCapytain"
   ]
  },
  {
   "cell_type": "markdown",
   "metadata": {},
   "source": [
    "Then we can import this module and use it to ingest the text of Pausanias, stored in the `tei/` directory of this repo."
   ]
  },
  {
   "cell_type": "code",
   "execution_count": 4,
   "metadata": {},
   "outputs": [],
   "source": [
    "from MyCapytain.resources.texts.local.capitains.cts import CapitainsCtsText\n",
    "\n",
    "with open(\"../tei/tlg0525.tlg001.perseus-grc2.xml\") as f:\n",
    "    text = CapitainsCtsText(urn=\"urn:cts:greekLit:tlg0525.tlg001.perseus-grc2\", resource=f)"
   ]
  },
  {
   "cell_type": "markdown",
   "metadata": {},
   "source": [
    "Let's try turning the text into just a [Pandas DataFrame](https://pandas.pydata.org/docs/index.html) with columns for the CTS URN, the corresponding XML, and the unannotated text of the passage."
   ]
  },
  {
   "cell_type": "code",
   "execution_count": 4,
   "metadata": {},
   "outputs": [],
   "source": [
    "# this block might take a while\n",
    "\n",
    "from lxml import etree\n",
    "from MyCapytain.common.constants import Mimetypes\n",
    "\n",
    "urns = []\n",
    "raw_xmls = []\n",
    "unannotated_strings = []\n",
    "\n",
    "for ref in text.getReffs(level=len(text.citation)):\n",
    "    urn = f\"{text.urn}:{ref}\"\n",
    "    node = text.getTextualNode(ref)\n",
    "    raw_xml = node.export(Mimetypes.XML.TEI)\n",
    "    tree = node.export(Mimetypes.PYTHON.ETREE)\n",
    "    s = etree.tostring(tree, encoding=\"unicode\", method=\"text\")\n",
    "\n",
    "    urns.append(urn)\n",
    "    raw_xmls.append(raw_xml)\n",
    "    unannotated_strings.append(s)"
   ]
  },
  {
   "cell_type": "code",
   "execution_count": null,
   "metadata": {},
   "outputs": [],
   "source": [
    "# install the latest version of numpy 1, instead of pandas' numpy 2\n",
    "%pip install numpy==1.26.4\n",
    "\n",
    "%pip install pandas"
   ]
  },
  {
   "cell_type": "code",
   "execution_count": null,
   "metadata": {},
   "outputs": [],
   "source": [
    "import pandas as pd\n",
    "\n",
    "d = {\n",
    "    \"urn\": pd.Series(urns, dtype=\"string\"),\n",
    "    \"raw_xml\": raw_xmls,\n",
    "    \"unannotated_strings\": pd.Series(unannotated_strings, dtype=\"string\")\n",
    "}\n",
    "pausanias_df = pd.DataFrame(d)"
   ]
  },
  {
   "cell_type": "markdown",
   "metadata": {},
   "source": [
    "## Working with textual data\n",
    "\n",
    "Now that we have some text to work with -- and by \"some text,\" I mean all 3170 sections of Pausanias in the above DataFrame -- we can start working with the data.\n",
    "\n",
    "Before doing so, however, we should ask _how_ we're going to make the data more manageable -- it isn't exactly feasible to dive headfirst into a corpus of this size.\n",
    "\n",
    "> Discuss: What units can we break Pausanias down into to make it more manageable? Don't worry about how you would do it in code yet, just think about how you might explore the units of the text.\n"
   ]
  },
  {
   "cell_type": "markdown",
   "metadata": {},
   "source": [
    "## Types of words\n",
    "\n",
    "With all languages, but especially with heavily-inflected languages like ancient Greek and Latin, it is important to be precise about the kinds of word forms that we're dealing with.\n",
    "\n",
    "#### Tokens \n",
    "\n",
    "A **token** or **running word** \"is a single occurrence of a word form in the text\" [@Brezina2018 39].\n",
    "\n",
    "How can we count the number of tokens in all of Pausanias? First we need to **tokenize** the `unannotated_strings` column of `pausanias_df`.\n",
    "\n",
    "Tokenization is a surprisingly complicated process depending on the language of study, and we will learn more sophisticated methods for tokenizing Greek text as we go along.\n",
    "\n",
    "For now, however, let's define a token as \"whitespace-delimited text\" -- we're not going to worry about punctuation etc. just yet.\n",
    "\n",
    "So to tokenize the `unannotated_strings` column of `pausanias_df`, we can run:"
   ]
  },
  {
   "cell_type": "code",
   "execution_count": null,
   "metadata": {},
   "outputs": [],
   "source": [
    "# See https://pandas.pydata.org/docs/reference/api/pandas.Series.str.split.html for\n",
    "# panda's string-splitting utilities; it splits on whitespace by default\n",
    "pausanias_df['whitespaced_tokens'] = pausanias_df['unannotated_strings'].str.split()\n",
    "\n",
    "pausanias_df"
   ]
  },
  {
   "cell_type": "markdown",
   "metadata": {},
   "source": [
    "Okay, now that we have some arrays of tokens in `whitespaced_tokens` column, how do we count them?"
   ]
  },
  {
   "cell_type": "code",
   "execution_count": null,
   "metadata": {},
   "outputs": [],
   "source": [
    "sum(len(ts) for ts in pausanias_df['whitespaced_tokens'])"
   ]
  },
  {
   "cell_type": "markdown",
   "metadata": {},
   "source": [
    "> Discuss: What does the above line of code do?"
   ]
  },
  {
   "cell_type": "markdown",
   "metadata": {},
   "source": [
    "The above line of code is not very idiomatic for Pandas, however. Instead, we should write something like the following:"
   ]
  },
  {
   "cell_type": "code",
   "execution_count": null,
   "metadata": {},
   "outputs": [],
   "source": [
    "pausanias_df['whitespaced_tokens'].explode().count()"
   ]
  },
  {
   "cell_type": "markdown",
   "metadata": {},
   "source": [
    "### Types\n",
    "\n",
    "A **type** is a unique word form in the corpus. For example, the inflected forms βουλεύεται and βουλεύομεν are each a type. (See @Brezina2018 [39-40].)\n",
    "\n",
    "In other words, **types** are **tokens** grouped by form. So to count the number of **types** in Pausanias, we can do the following:"
   ]
  },
  {
   "cell_type": "code",
   "execution_count": null,
   "metadata": {},
   "outputs": [],
   "source": [
    "len(pausanias_df['whitespaced_tokens'].explode().unique())"
   ]
  },
  {
   "cell_type": "markdown",
   "metadata": {},
   "source": [
    "> Discuss: Break the above line of code down method by method."
   ]
  },
  {
   "cell_type": "markdown",
   "metadata": {},
   "source": [
    "What if we want to see the top `n` types in the corpus?"
   ]
  },
  {
   "cell_type": "code",
   "execution_count": null,
   "metadata": {},
   "outputs": [],
   "source": [
    "from collections import Counter\n",
    "\n",
    "type_counts = Counter(pausanias_df['whitespaced_tokens'].explode())\n",
    "\n",
    "type_counts.most_common(100)"
   ]
  },
  {
   "cell_type": "markdown",
   "metadata": {},
   "source": [
    "### Stop words\n",
    "\n",
    "Hm, that's not particularly interesting -- most of these words are fairly common and will rank highly in almost any corpus. Further, since we haven't accounted for punctuation, we're probably generating frequencies incorrectly based on whether or not a type is joined to any punctuation. We need to get a bit more sophisticated.\n",
    "\n",
    "Let's install `spacy` and `grecy` to perform better tokenization and incorporate the notion of a **stop word**: a token that is so common that including it in most statistical analyses will just generate noise."
   ]
  },
  {
   "cell_type": "code",
   "execution_count": null,
   "metadata": {},
   "outputs": [],
   "source": [
    "## Uncomment the line for your system's architecture\n",
    "%pip install spacy\n",
    "# %pip install 'spacy[apple]'\n",
    "%pip install grecy"
   ]
  },
  {
   "cell_type": "markdown",
   "metadata": {},
   "source": [
    "Now we need to install a model for `grecy` to use. Note that there is a known but so-far unpatched issue where this command will only work with Python 3.11.9 and pip 24.0 (or a bit older in either case)."
   ]
  },
  {
   "cell_type": "code",
   "execution_count": null,
   "metadata": {},
   "outputs": [],
   "source": [
    "%run -m grecy install grc_proiel_sm"
   ]
  },
  {
   "cell_type": "code",
   "execution_count": 13,
   "metadata": {},
   "outputs": [],
   "source": [
    "import spacy\n",
    "\n",
    "nlp = spacy.load(\"grc_proiel_sm\", disable=[\"ner\"])"
   ]
  },
  {
   "cell_type": "code",
   "execution_count": 19,
   "metadata": {},
   "outputs": [],
   "source": [
    "tokenizer = nlp.tokenizer\n",
    "\n",
    "pausanias_df['tokens'] = pausanias_df['unannotated_strings'].apply(tokenizer)"
   ]
  },
  {
   "cell_type": "markdown",
   "metadata": {},
   "source": [
    "The tokenization process through SpaCy adds some features to each of the tokens in the `tokens` column. Now we can collect the types and exclude stop words using the `token.is_stop` attribute."
   ]
  },
  {
   "cell_type": "code",
   "execution_count": null,
   "metadata": {},
   "outputs": [],
   "source": [
    "types = [t.text for t in pausanias_df['tokens'].explode() if not t.is_stop and t.is_alpha]\n",
    "\n",
    "type_counts = Counter(types)\n",
    "\n",
    "type_counts.most_common(100)"
   ]
  },
  {
   "cell_type": "markdown",
   "metadata": {},
   "source": [
    "Much better! We now have a list of the most common types, exluding stop words and punctuation.\n",
    "\n",
    "Be careful, though: these are still just raw counts, and they tell us very little about how we might characterize Pausanias vis-à-vis a larger corpus."
   ]
  },
  {
   "cell_type": "markdown",
   "metadata": {},
   "source": [
    "## Lemmata/lemmas\n",
    "\n",
    "A **lemma** (plural **lemmata** or **lemmas**) represents \"a group of all inflectional forms related to one stem that belong to the same word class (Kučera & Francis 1967: 1)\" [@Brezina2018 40]. In simpler terms, a **lemma** is the dictionary form of a word, so **lemmata** give us a way of further reducing the word count. ἐστίν, ἔσμεν, and εἰσίν all have the same **lemma**: εἰμί.\n",
    "\n",
    "Lemmatization, as you might guess, often involves additional processing. Luckily, we can use the SpaCy and GreCy models again."
   ]
  },
  {
   "cell_type": "code",
   "execution_count": 17,
   "metadata": {},
   "outputs": [],
   "source": [
    "raw_texts = [t for t in pausanias_df['unannotated_strings']]\n",
    "annotated_texts = nlp.pipe(raw_texts, batch_size=100)\n",
    "\n",
    "pausanias_df['nlp_docs'] = list(annotated_texts)"
   ]
  },
  {
   "cell_type": "code",
   "execution_count": null,
   "metadata": {},
   "outputs": [],
   "source": [
    "lemmata = [t.lemma_ for t in pausanias_df['nlp_docs'].explode() if not t.is_stop and t.is_alpha]\n",
    "\n",
    "lemmata_counts = Counter(lemmata)\n",
    "\n",
    "lemmata_counts.most_common(100)"
   ]
  },
  {
   "cell_type": "markdown",
   "metadata": {},
   "source": [
    "#### Lexemes\n",
    "\n",
    "Finally, \"a **lexeme** is a lemma with a particular meaning attached to it.... The best way of conceptualizing a lexeme is as a subentry in a dictionary\" [@Brezina2018 40].\n",
    "\n",
    "One challenge of working with lexemes is that, even with the advances of large language models like ChatGPT, there is no surefire way to annotate them automatically. We still need \"human-in-the-loop\" pipelines to catch errors and ambiguities. And keep in mind that even two humans might disagree on the lexeme for a particular word!\n",
    "\n",
    "But we can inspect the `lex` attributes of the tokens that SpaCy has generated for us and see if they make sense."
   ]
  },
  {
   "cell_type": "code",
   "execution_count": null,
   "metadata": {},
   "outputs": [],
   "source": [
    "lexemes = [(t.text, t.lex) for t in pausanias_df['nlp_docs'].explode() if not t.is_stop and t.is_alpha]\n",
    "\n",
    "lexeme_counts = Counter(lexemes)\n",
    "\n",
    "lexeme_counts.most_common(100)"
   ]
  },
  {
   "cell_type": "markdown",
   "metadata": {},
   "source": [
    "Wait a second -- this list looks identical to our list of word types.\n",
    "\n",
    "Sure enough, when we check the SpaCy documentation for [Lexeme](https://spacy.io/api/lexeme):\n",
    "\n",
    "> A Lexeme has no string context – it’s a word type, as opposed to a word token. It therefore has no part-of-speech tag, dependency parse, or lemma (if lemmatization depends on the part-of-speech tag)."
   ]
  },
  {
   "cell_type": "markdown",
   "metadata": {},
   "source": [
    "\n",
    "## Review\n",
    "\n",
    "> Discuss: Define **token**, **type**, **stop word**, **lemma**, and **lexeme** in your own words.\n",
    "\n",
    "> Discuss: How can we use these different notions of \"word\" in our analysis of corpora? Why is it important to be precise about what kind of word(s) we're using?\n",
    "\n",
    "## Homework\n",
    "\n",
    "1. Read @Brezina2018 [ch. 2, pp. 41--65].\n",
    "2. Choose 3 books of Pausanias and calculate the most common tokens, types, and lemmata for each. In a paragraph or so, describe your findings relative to the work we have done in class today.\n",
    "3. Using your findings from 2., write a short (1-page) evaluation of one of the books of Pausanias that you have analyzed. Does your qualitative -- which is not to say \"subjective\" -- experience of reading the text cohere with your quantitative evaluation?"
   ]
  }
 ],
 "metadata": {
  "kernelspec": {
   "display_name": ".venv",
   "language": "python",
   "name": "python3"
  },
  "language_info": {
   "codemirror_mode": {
    "name": "ipython",
    "version": 3
   },
   "file_extension": ".py",
   "mimetype": "text/x-python",
   "name": "python",
   "nbconvert_exporter": "python",
   "pygments_lexer": "ipython3",
   "version": "3.11.9"
  }
 },
 "nbformat": 4,
 "nbformat_minor": 2
}
