{
 "cells": [
  {
   "cell_type": "code",
   "execution_count": null,
   "metadata": {},
   "outputs": [],
   "source": [
    "from dataclasses import dataclass\n",
    "from typing import Literal\n",
    "\n",
    "type Emotion = Literal[\"love\", \"joy\", \"sadness\", \"fear\", \"disgust\"]\n",
    "\n",
    "@dataclass\n",
    "class Speaker:\n",
    "    name: str\n",
    "    gender: Literal[\"m\", \"f\", \"a\"]\n",
    "    outsider: bool\n",
    "    cclass: Literal[\"nobility\", \"gentle\", \"servant\", \"supernatural\"]\n",
    "\n",
    "@dataclass\n",
    "class Play:\n",
    "    name: str\n",
    "    genre: Literal[0, 1]\n",
    "    year: int\n",
    "\n",
    "@dataclass\n",
    "class Line:\n",
    "    text: str\n",
    "    play: Play\n",
    "    act: str\n",
    "    scene: str\n",
    "    n: str\n",
    "    speaker: Speaker\n",
    "\n",
    "\n",
    "def beta_0(emotion: Emotion, line: Line):\n",
    "    \"\"\"\n",
    "    Insufficient info provided by the paper to compute.\n",
    "    \"\"\"\n",
    "    return 0\n",
    "\n",
    "def beta_h(emotion: Emotion, line: Line):\n",
    "    \"\"\"\n",
    "    Need to pull in data from tables in appendix\n",
    "    \"\"\"\n",
    "    return 0.5\n",
    "    \n",
    "\n",
    "def line_emotion(emotion: Emotion, line: Line, noise: float = 0):\n",
    "    return beta_0(emotion, line) + beta_h(emotion, line) * line.genre"
   ]
  }
 ],
 "metadata": {
  "language_info": {
   "name": "python"
  }
 },
 "nbformat": 4,
 "nbformat_minor": 2
}
