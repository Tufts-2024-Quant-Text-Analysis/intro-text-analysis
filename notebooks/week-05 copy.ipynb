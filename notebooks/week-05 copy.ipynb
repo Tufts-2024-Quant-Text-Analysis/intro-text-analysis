{
 "cells": [
  {
   "cell_type": "markdown",
   "metadata": {},
   "source": [
    "# Lexico-grammatical features and statistical significance\n",
    "\n",
    "## Cross-tabulation, Percentages, and Chi-squared Test (@Brezina2018 4.3)\n",
    "\n",
    "### Cross-tabulation\n",
    "\n",
    "### Chi-squared\n",
    "\n",
    "```\n",
    "χ<sup>2</sup> = sum_for_all_cells((observed_freq - expected_freq)^2 / expected_freq)\n",
    "```"
   ]
  },
  {
   "cell_type": "markdown",
   "metadata": {},
   "source": [
    "how different observed frequency is from expected frequnecy if occured randomly\n",
    "expected frequencies must be greater than 5\n",
    "chi squared is sum for each cell\n",
    "\n",
    "Expected frequencies:\n",
    " page 109 of textbook: using graph\n",
    " (row totals * column total) / total of everything\n",
    " ex: (26 * 27) / 100 ; (26 *73) / 100 ; (74 * 27) / 100 ; (73 * 73) / 100\n",
    " ^ these give four different expected frequencies\n",
    "\n",
    "Observed Frequencies \n",
    "single cell on page 109\n",
    "ex: for indefinite * determined, we did (27 * 74) / 100\n",
    "observed frequency is then 2\n",
    "repeat this for all\n",
    "\n",
    "Then we take (observed - expected)^2 / expected and add each together\n",
    "((2 -19.98)^2 / 19.98) + all the others\n",
    "\n"
   ]
  },
  {
   "cell_type": "markdown",
   "metadata": {},
   "source": [
    "probability ratio is probability of the outcome that you are interested in in one context / probability of outcome in another context\n",
    "page 116"
   ]
  }
 ],
 "metadata": {
  "language_info": {
   "name": "python"
  }
 },
 "nbformat": 4,
 "nbformat_minor": 2
}
