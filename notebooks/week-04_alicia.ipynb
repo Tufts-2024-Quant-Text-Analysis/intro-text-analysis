{
 "cells": [
  {
   "cell_type": "markdown",
   "metadata": {},
   "source": [
    "# Semantics and Discourse\n",
    "\n",
    "(Brezina 2018: ch. 3, pp. 66–75)\n",
    "\n",
    "## Collocations\n",
    "\n",
    "Definitions (@Brezina2018, 67): \n",
    "\n",
    "- **Collocation**: a group of two or more words \"that habitually co-occur in texts and corpora.\"\n",
    "- **Collocation measures**: \"statistical meausres that calculate the strength of association between words based on different aspects of the co-occurrence relationship.\"\n",
    "- **Node**: \"word that we want to search for and analyse.\"\n",
    "- **Collocates**: \"words that co-occur with the node in a specifically defined **span** around the node, which we call the **collocation window**.\"\n",
    "- **Observed frequency of collocation**: Number of times that a **collocate** appears with a **node**.\n",
    "\n",
    "## The simple approach\n",
    "\n",
    "> Discuss: Why might one avoid a basic ranked list of collocates?\n",
    "\n",
    "\n",
    "## A more sophisticated approach\n",
    "\n",
    "- **Expected frequency of collocation**\n",
    "\n",
    "```python\n",
    "expected_collocate_freq = (node_freq * collocate_freq * window_size) / n_tokens_in_corpus\n",
    "```\n",
    "\n",
    "> Discuss: Explain Brezina's example of \"my\" and \"love\" in Robert Burns' \"A Red, Red Rose.\"\n",
    "\n",
    "> Discuss: What problems does one encounter if one uses this approach blindly?\n",
    "\n",
    "\n",
    "## Association Measures\n",
    "\n",
    "Let's prepare to explore these collocation measures by loading up a dataframe of Pausanias."
   ]
  },
  {
   "cell_type": "code",
   "execution_count": 51,
   "metadata": {},
   "outputs": [],
   "source": [
    "# I've created a utils.py file for frequently reused functionality -- you can import from it like so\n",
    "from utils import load_pausanias\n",
    "\n",
    "pausanias_df = load_pausanias('grc') # you can use `load_pausanias('eng')` to load the English version"
   ]
  },
  {
   "cell_type": "markdown",
   "metadata": {},
   "source": [
    "When calculating co-occurrences in Greek, it is generally insufficient to use the L and R windows that Brezina uses for English (@Brezina2018 67–70). Instead, we'll look for a dependency relationship between the **node** and its **collocates**. Below, you can see that we can access the dependencies of a token through its `children` property."
   ]
  },
  {
   "cell_type": "code",
   "execution_count": 2,
   "metadata": {},
   "outputs": [
    {
     "data": {
      "text/plain": [
       "\"token: 'ἠπείρου, ἤπειρος', dependencies: [(τῆς, 'ὁ'), (Ἑλληνικῆς, 'Ἑλληνικός')]\""
      ]
     },
     "execution_count": 2,
     "metadata": {},
     "output_type": "execute_result"
    }
   ],
   "source": [
    "test_token = pausanias_df['nlp_docs'][0][1]\n",
    "\n",
    "# we use a list comprehension to evaluate the generator at `test_token.children`\n",
    "f\"token: '{test_token}, {test_token.lemma_}', dependencies: {[(c, c.lemma_) for c in test_token.children]}\""
   ]
  },
  {
   "cell_type": "code",
   "execution_count": 19,
   "metadata": {},
   "outputs": [
    {
     "name": "stdout",
     "output_type": "stream",
     "text": [
      "Counter({'.': 445, 'δέ': 420, ',': 358, 'καί': 245, '·': 194, 'ὁ': 140, 'εἰμί': 117, 'μέν': 84, 'γίγνομαι': 82, 'οὗτος': 74, 'αὐτός': 70, 'ὡς': 61, 'ποιέω': 53, '\\n': 49, 'δή': 45, 'ἔχω': 37, 'παῖς': 33, 'σφεῖς': 32, 'γάρ': 29, 'φημί': 28, 'καλέω': 26, 'ἐνταῦθα': 26, 'τε': 23, 'ὅς': 21, '—': 20, 'ὅδε': 20, 'ἄλλος': 19, 'λέγω': 19, 'ἔρχομαι': 19, 'ἀφικνέομαι': 19, 'ἐγώ': 18, 'οὐ': 18, 'λόγος': 18, 'ὀνομάζω': 17, 'θυγάτηρ': 16, 'Ἕλλην': 16, 'καθά': 14, 'οἰκέω': 14, 'ἀνατίθημι': 14, 'δίδωμι': 14, 'γυνή': 13, 'θάπτω': 13, 'τίθημι': 13, 'βασιλεύω': 12, 'Ἀργεῖος': 12, 'ἀνήρ': 12, 'ἱερόν': 11, 'ἄγαλμα': 11, 'ἀποθνῄσκω': 11, 'θεός': 11, 'οὕτως': 11, 'καθίστημι': 11, 'λαμβάνω': 11, 'ὄνομα': 11, 'ἕτερος': 10, 'οὖν': 10, 'ὁράω': 10, 'Ἀρκάς': 10, 'θύω': 10, 'ἔοικα': 10, 'κατά': 10, 'συμβαίνω': 9, 'ἄνθρωπος': 9, 'πολύς': 9, 'κομίζω': 9, 'φαίνω': 9, 'πρῶτος': 9, 'χώρα': 9, 'ἀνάθημα': 9, 'τοιόσδε': 9, 'ἤδη': 9, 'Λακεδαιμόνιος': 9, 'Ἠλεῖος': 9, 'ἔπος': 8, 'Ἀθηναῖος': 8, 'Ποσειδῶν': 8, 'ναός': 8, 'εἰς': 8, 'τότε': 8, 'Θηβαῖος': 8, 'ἐπίκλησις': 8, 'ἱδρύω': 8, 'ἐθέλω': 8, 'Διόνυσος': 7, 'γράφω': 7, 'τελευτή': 7, 'οἰκοδομέω': 7, 'ἀρχή': 7, 'τίκτω': 7, 'τοσοῦτος': 7, 'χράω': 7, 'Δελφοί': 7, 'ἀκούω': 6, 'Θησεύς': 6, 'ἔνθα': 6, 'ὁμολογέω': 6, 'ἀλλά': 6, 'σαφής': 6, 'ὅστις': 6, 'πόλις': 6, 'Μεγαρεύς': 6, 'Ἀπόλλων': 6, 'ἔργον': 6, 'πηγή': 6, 'πρότερος': 5, 'πατήρ': 5, 'φέρω': 5, 'αἰτία': 5, 'ἁλίσκομαι': 5, 'ἀνασῴζω': 5, 'ὁμοῦ': 5, 'τρόπος': 5, 'μνῆμα': 5, 'ἤ': 5, 'βωμός': 5, 'δοκέω': 5, 'οἰκίζω': 5, 'Πυθία': 5, 'εἰ': 5, 'ἄγω': 5, 'συγγίγνομαι': 5, 'ἄν': 5, 'ἵστημι': 5, 'νικάω': 5, 'τοιοῦτος': 5, 'τίς': 5, 'ἐπεί': 5, 'παύω': 4, 'μάχη': 4, 'μνήμη': 4, 'ἥκω': 4, 'νῆσος': 4, 'ἀφίημι': 4, 'ἐράω': 4, 'διαβαίνω': 4, 'ἑαυτοῦ': 4, 'κρατέω': 4, 'Ἑρμῆς': 4, 'ἀνίημι': 4, 'παρέχω': 4, 'μέλλω': 4, 'εἶμι': 4, 'ἀποβαίνω': 4, 'ξόανον': 4, 'τάφος': 4, 'αἱρέω': 4, 'πᾶς': 4, 'ἀποφαίνω': 4, 'καταβαίνω': 4, 'δράω': 4, 'κεῖμαι': 4, 'ῥέω': 4, 'Ζεύς': 4, 'ὁπόσος': 4, 'Ἡρακλῆς': 4, 'ἱεράομαι': 4, 'ἀποκτείνω': 4, 'διδάσκω': 4, 'ἀπέχω': 4, 'πείθω': 4, 'βασιλεύς': 4, 'ἔπειμι': 4, 'οὐδέ': 4, 'ποταμός': 4, 'ἐξηγητής': 4, 'ἀναιρέω': 4, 'ἐπίγραμμα': 4, 'ἐπιχώριος': 4, 'ὄρος': 4, 'ὁποῖος': 3, 'δείκνυμι': 3, 'Κερκυών': 3, 'δῆμος': 3, 'Ἡρακλέης': 3, 'ἀκρόπολις': 3, 'στέλλω': 3, 'οὐδείς': 3, 'χωρίον': 3, 'φρονέω': 3, 'πλησίος': 3, 'τελευτάω': 3, 'ὅσος': 3, 'ἵππος': 3, 'διάφορος': 3, 'δόξα': 3, 'ἕκαστος': 3, 'ἄρχω': 3, 'εὑρίσκω': 3, 'οὔτε': 3, 'δηλόω': 3, 'μαίνομαι': 3, 'ναῦς': 3, 'μέγεθος': 3, 'μετοικέω': 3, 'συνοικέω': 3, 'νύμφη': 3, 'ὕστερος': 3, 'τολμάω': 3, 'οἶδα': 3, 'γε': 3, 'Ἥρα': 3, 'ἅρμα': 3, 'ἀνάκειμαι': 3, 'Πέλοψ': 3, 'τροφός': 3, 'ὅμως': 3, 'ὕδωρ': 3, 'μείγνυμι': 3, 'μείς': 3, 'Ἀριστόδημος': 3, 'νομίζω': 3, 'Ὀδυσσεύς': 3, 'ἔτος': 3, 'Σπαρτιάτης': 3, 'Ὅμηρος': 3, 'οἰκιστής': 3, 'ταύτῃ': 3, 'τρέφω': 3, 'Εὐφαής': 3, '“': 3, 'ἐφίστημι': 3, 'Ἐπαμεινώνδας': 3, 'κελεύω': 3, 'νέμω': 3, 'λούω': 3, 'μνημονεύω': 3, 'ἔτι': 3, 'ὅρος': 3, 'ἡμεῖς': 3, 'Ἀχαιός': 3, 'φάσκω': 3, 'χρόνος': 3, 'Πατρεύς': 3, 'Τεγεάτης': 3, 'δυναστεύω': 3, 'ξύλον': 3, 'Βοιωτός': 3, 'ἐκδέχομαι': 2, 'γονεύς': 2, 'διαμένω': 2, 'Πύρρος': 2, 'κοινός': 2, 'Πανδίων': 2, 'Πτολεμαῖος': 2, 'Ἀγαθοκλῆς': 2, 'ἀνέρχομαι': 2, 'θάλασσα': 2, 'κατάρα': 2, 'μυρσίνη': 2, 'μάρτυς': 2, 'ἔρημος': 2, 'πέραν': 2, 'ἐπονομάζω': 2, 'δαίμων': 2, 'Σφίγξ': 2, 'προέρχομαι': 2, 'ὥστε': 2, 'χάλκεος': 2, 'ἐπεργάζομαι': 2, 'ἐντυγχάνω': 2, 'Ὀρέστης': 2, 'φόνος': 2, 'καλός': 2, 'γιγνώσκω': 2, 'κεραυνός': 2, 'πίπτω': 2, 'πράσσω': 2, 'μεταπέμπω': 2, 'ὄρνις': 2, 'παραδίδωμι': 2, 'Ἄτλας': 2, 'Ἑλένη': 2, 'ἐπέχω': 2, 'φεύγω': 2, 'Ἀθήναιος': 2, 'Ἀστέριος': 2, 'δράκων': 2, 'τύχη': 2, 'ἥρως': 2, 'Κέφαλος': 2, 'καταπαλαίω': 2, 'ἔθος': 2, 'Κάρ': 2, 'γενεά': 2, 'βαδίζω': 2, 'ὁδός': 2, 'νεκρός': 2, 'Ἄργος': 2, 'ἐπιτυγχάνω': 2, 'πέμπω': 2, 'Αἴγυπτος': 2, 'μαντεύομαι': 2, 'ἄλλως': 2, 'Ῥωμαῖος': 2, 'δελφίς': 2, 'Κορίνθιος': 2, 'χαλκός': 2, 'ἐπίσταμαι': 2, 'Σικυώνιος': 2, 'Φαῖστος': 2, 'Τιτάν': 2, 'λόφος': 2, 'ἄνεμος': 2, 'Ἀσωπός': 2, 'ὧδε': 2, 'γῆ': 2, 'Εὐπόλεμος': 2, 'παρίστημι': 2, 'Λυδός': 2, 'οἰκοδόμημα': 2, 'χῶμα': 2, 'ὀστέον': 2, 'ὅτι': 2, 'μή': 2, 'Πολυνείκης': 2, 'ἀνίστημι': 2, 'Αἰγινήτης': 2, 'λοιπός': 2, 'ἱλάσκομαι': 2, 'ἀπόρρητος': 2, 'προστάσσω': 2, 'δικάζω': 2, 'καθαίρω': 2, 'ἀνευρίσκω': 2, 'Ἑρμιονεύς': 2, 'ἀπό': 2, 'ὑπό': 2, 'ποτε': 2, 'μετέχω': 2, 'δρόμος': 2, 'Ἀθήνη': 2, 'κατασκευάζω': 2, 'Θρᾷξ': 2, 'Ἱπποκόων': 2, 'ἐπί': 2, 'συγγραφή': 2, 'Λυκοῦργος': 2, 'ἡμέρα': 2, 'θυσία': 2, 'ἐναγίζω': 2, 'κρήνη': 2, 'ἐγκαλύπτω': 2, 'εἰσπίπτω': 2, 'ἀφανίζω': 2, 'Ἀλέξανδρος': 2, 'Δαναός': 2, 'μέγας': 2, 'ἐκδίδωμι': 2, 'ἀποκρίνω': 2, 'μάντις': 2, 'ἀληθής': 2, 'ἀναβιόω': 2, 'τοσόσδε': 2, 'ὄλεθρος': 2, 'χρησμός': 2, 'πιστός': 2, 'μάντευμα': 2, 'ἀγών': 2, 'οἰκισμός': 2, 'δόρυ': 2, 'Κουρῆτες': 2, 'Ὀξῦλος': 2, 'ἀναβαίνω': 2, 'κέλης': 2, 'Ἱπποδάμεια': 2, 'Μιλήσιος': 2, 'ἀμφότεροι': 2, 'αὐτόθι': 2, 'ἀείδω': 2, 'τιμή': 2, 'Ἀργώ': 2, 'Ἀρίσταρχος': 2, 'κίων': 2, 'ἐκτίνω': 2, 'ἀφίστημι': 2, 'ἐργάζομαι': 2, 'Τριταιεύς': 2, 'δῆλος': 2, 'θησαυρός': 2, 'βουλή': 2, 'πρέσβυς': 2, 'σύλλογος': 2, 'Δίαιος': 2, 'ὑφαιρέω': 2, 'ὄψις': 2, 'μήνιμα': 2, 'ὁρμίζω': 2, 'ὡσαύτως': 2, ' ': 2, 'πονέω': 2, 'ἐν': 2, 'φθέγγομαι': 2, 'ὅτε': 2, 'λίμνη': 2, 'ἤπειρος': 2, 'Ἀθῆναι': 2, 'κτίζω': 2, 'εἷς': 2, 'στάδιον': 2, 'Ταναγραῖος': 2, 'λείπω': 2, 'Κάδμος': 2, 'κινέω': 2, 'λαγχάνω': 2, 'Λίβυς': 2, 'Φάληρον': 1, 'νῦν': 1, 'λωβάομαι': 1, 'Ἀκταῖος': 1, 'κραναός': 1, 'Ἐριχθόνιος': 1, 'Μεγαρίς': 1, 'σκόπελος': 1, 'αἰσχύνω': 1, 'Ἀσία': 1, 'ἀποδείκνυμι': 1, 'φυγή': 1, 'ἐλπίζω': 1, 'ἐπιβουλεύω': 1, 'αἰσθάνομαι': 1, 'Διομήδης': 1, 'ἐρῶ': 1, 'οἷος': 1, 'Χοιρίλος': 1, 'δρᾶμα': 1, 'Ἀλόπη': 1, 'κοιμάω': 1, 'εἰσέρχομαι': 1, 'ἀνήκω': 1, 'Μίνως': 1, 'Ἀμφιτρίτη': 1, 'δέω': 1, 'ἀπόλλυμι': 1, 'Πειρίθοος': 1, 'ἀνοίγνυμι': 1, 'μαίνω': 1, 'Κρητικός': 1, 'ἐπομβρία': 1, 'ὑπορρυῆναι': 1, 'ἄμαξα': 1, 'Πραξιτέλη': 1, 'γραφή': 1, 'μνησικακέω': 1, 'καθέζομαι': 1, 'σκηνή': 1, 'μίμησις': 1, 'εἰσβάλλω': 1, 'εἴωθα': 1, 'εἰκάζω': 1, 'τρυπάω': 1, 'εἰκών': 1, 'παρθένος': 1, 'προσαγορεύω': 1, 'Μενεσθεύς': 1, 'ὑπερκύπτω': 1, '—τούτω': 1, 'θαυμάσιος': 1, 'περισσός': 1, 'γρυπέω': 1, 'ποῖος': 1, 'μαρτύριον': 1, 'ἀκινάκη': 1, 'ἐλαία': 1, 'τορεύω': 1, 'τεῖχος': 1, 'Πάν': 1, 'κρίνω': 1, 'ἐκβοηθέω': 1, 'ἐπιτίθημι': 1, 'συμμαχία': 1, 'σείζω': 1, 'μέτοικος': 1, 'μεταβάλλω': 1, 'Οἰδίπους': 1, 'Μυρρινούσιος': 1, 'πάρειμι': 1, 'Μῆδος': 1, 'ὅσιος': 1, 'ἀδύνατος': 1, 'ἑλώδης': 1, 'φάτνη': 1, 'καταλιποῦσαν': 1, 'ψαύω': 1, 'Ἀμφιάραος': 1, 'διΐστημι': 1, 'πλήν': 1, 'παραπλέουμι': 1, 'ἅλωσις': 1, 'ἀποπλέω': 1, 'κρίνου': 1, 'Μυσός': 1, 'πῆχυς': 1, 'ναυμαχούντω': 1, 'ἡσσάομαι': 1, 'Μνησίθεος': 1, 'συνεξαιρέω': 1, 'Ἀμφιτρύων': 1, 'Ῥειτοί': 1, 'κῆρυξ': 1, 'σπαρῆνη': 1, 'αὐξάνω': 1, 'Ὤγυγος': 1, 'σπήλαιον': 1, 'κατατίθημι': 1, 'ἀναίρεσις': 1, 'ἄδικος': 1, 'παλαίστρα': 1, 'διαφθείρω': 1, 'δωδέκατος': 1, 'Πραξιτέλης': 1, 'ἐλέφας': 1, 'Θεόκοσμος': 1, 'συνεργάννυμι': 1, 'προδίδωμι': 1, 'Μέγαρα': 1, 'συμπράσσω': 1, 'Ἀλκάθοος': 1, 'ἐγγύς': 1, 'κατέπεφνον': 1, 'Μέμνων': 1, 'Ἰσχέπολις': 1, 'Εὐχήνωρ': 1, 'Κρότωπος': 1, 'τεκμαίρομαι': 1, 'Λέλεγες': 1, 'θάνατος': 1, 'οἶκος': 1, 'ἀκρατέω': 1, 'σπουδή': 1, 'Εὔμηλος': 1, 'Ἀμφιλύτας': 1, 'παραιρέω': 1, 'ἀνοικίζω': 1, 'ἐκκομισθαίνω': 1, 'σεμνολογέω': 1, 'ἀμφισβήτησις': 1, 'ἰσθμός': 1, 'Ἐριφύλη': 1, 'Σικελία': 1, 'ὑβρίζω': 1, 'θεάομαι': 1, 'ἀποσπάω': 1, 'βάπτω': 1, '14.490τός': 1, 'τελετή': 1, 'κριός': 1, 'Αἰγεύς': 1, 'δῶρον': 1, 'ἔπηλυ': 1, 'ἐγχώριος': 1, 'Μαίανδρος': 1, 'κατακαίω': 1, 'πολέμιος': 1, 'Χθονοφύλης': 1, 'γαμέω': 1, 'Ζεύξιππος': 1, 'τόπος': 1, 'Ἄρατος': 1, 'Φεραί': 1, 'ἀναστρέφω': 1, 'Μήδεια': 1, 'ἐπῳδή': 1, 'Φλιάσιος': 1, 'Φλειάσιος': 1, '—τής': 1, 'Ἀπεσάντιος': 1, 'Φορωνεύς': 1, 'Ἴναχος': 1, 'Ἀρέστορος': 1, 'ἀρχιτέκτων': 1, 'Ἥβη': 1, 'πότερον': 1, 'κάτειμι': 1, 'καθάπερ': 1, 'Πελοπίδης': 1, 'δίκαιος': 1, 'Ἐπειός': 1, 'σάλπιγξ': 1, 'κεφαλή': 1, 'ἄπειμι': 1, 'ἔξειμι': 1, 'Προκλέης': 1, 'διαφέρω': 1, 'βόθρος': 1, 'γαστήρ': 1, 'Εὔβοια': 1, 'ἐπάνειμι': 1, 'Δηϊάνειρα': 1, 'ἀλήθεια': 1, 'πολεμήω': 1, 'μεγάλως': 1, 'ἐξαιρετός': 1, 'Λυκέης': 1, 'κατασκευαζομένος': 1, 'ἄνειμι': 1, 'Πυθαεύς': 1, 'παραγίγνομαι': 1, 'πταῖσμα': 1, 'ἀποσῴζω': 1, 'ἀνάπτω': 1, 'Λάρισα': 1, 'συμβάλλω': 1, 'ἀσπίς': 1, 'ἀμαχεί': 1, 'Κορωνΐς': 1, 'κύω': 1, 'ἐξάπτω': 1, 'ἁρπάζω': 1, 'φλόξ': 1, 'μεταδίδωμι': 1, 'αἴρω': 1, 'ἀξιόω': 1, 'Ἐπιδαύριος': 1, 'ἀνέχω': 1, 'εὐθύς': 1, 'διά': 1, 'Ἡρόδοτος': 1, 'ἀμφισβητέω': 1, 'θρόνος': 1, 'Ἄρδαλος': 1, 'αὐλος': 1, 'φίλος': 1, 'μόνος': 1, 'κότινος': 1, 'Ἀέτιος': 1, 'ἱερεύς': 1, 'ἐπέτειος': 1, 'καταλεύω': 1, 'Τροιζήνιος': 1, 'Σφαῖρος': 1, 'Καλαύρεια': 1, 'ἀντιδίδωμι': 1, 'Μέθανα': 1, 'χάλαζα': 1, 'ἀγωνίζομαι': 1, 'νέος': 1, 'Ἀθέρας': 1, 'κόκκυξ': 1, 'ἀλλαγή': 1, 'Ναυπλία': 1, 'ὄνος': 1, 'κατέρχομαι': 1, 'ἀποσεμνύνω': 1, 'υἱός': 1, 'Κυνουρεύς': 1, 'βουλεύω': 1, 'Δημάρατος': 1, 'ἐπήκοος': 1, 'Ἆγις': 1, 'Λεωτυχίδης': 1, 'μεταλαμβάνω': 1, 'Κύλων': 1, 'Θῆβαι': 1, 'μακράν': 1, 'ἀποικισθέντης': 1, 'παρασκευάζω': 1, 'Ἴδη': 1, 'κρανεία': 1, 'ἐκτέμνω': 1, 'Κάρνειος': 1, 'ὑπερθίημι': 1, 'Χιόνις': 1, 'Μαῖσις': 1, 'δοξάζω': 1, '\\n ': 1, 'ἐκκλέπτω': 1, 'Τυνδάρεος': 1, 'Κλέαρχος': 1, 'Εὐρυλεωνίδας': 1, 'ἐκκόπτω': 1, 'Λύσανδρος': 1, 'προαγορεύω': 1, 'πόλεμος': 1, 'Ἀφυταῖος': 1, 'διαλύω': 1, 'προάγω': 1, 'τιμάω': 1, 'θέα': 1, 'Ὑακινθῖος': 1, 'Ὑάκινθος': 1, 'ἄνθος': 1, 'Ἄρης': 1, 'τάχα': 1, 'Θηρίτη': 1, 'λέων': 1, 'Θεράπνη': 1, 'Μενέλαος': 1, 'εἰσπλέω': 1, 'Κροτωνιάτης': 1, 'Πολυδευκεία': 1, 'δεξιός': 1, 'Πράξ': 1, 'προήκουζω': 1, 'Πηνελόπεια': 1, 'Αὐγειαί': 1, 'Γυθεάτης': 1, 'Μάγνης': 1, 'Βροτέας': 1, 'τρεῖς': 1, 'Σίδης': 1, 'ἐκφεύγω': 1, 'Κλεώνυμος': 1, 'ἐμβάλλω': 1, 'ἀναθρέπτω': 1, 'ἆθλον': 1, 'Ἀντίλοχος': 1, 'Σιληνός': 1, 'Πίνδαρος': 1, 'ἀκοή': 1, 'Λυδία': 1, 'Μαχάων': 1, 'οἰκήτωρ': 1, 'τόξον': 1, 'ἀλλήλοιινοἴκῳ': 1, 'Φλῦον': 1, 'συντελέω': 1, 'διεργάζομαι': 1, 'αἰσχύνη': 1, 'ἑκάτερος': 1, 'λῃστής': 1, 'πολεμέω': 1, 'ἀντιλέγω': 1, 'ἐξαιτέω': 1, 'ἡμέτερος': 1, 'μακρός': 1, 'σπεύδω': 1, 'ἀντέπειμι': 1, 'ἆρα': 1, 'Ἄντανδρος': 1, 'Θεόπομπος': 1, 'συνίημι': 1, 'ὀφθαλμός': 1, 'ἐκκλησία': 1, 'τυρταῖος': 1, 'ἐκεῖνος': 1, 'σῖτος': 1, 'ἀμητής': 1, 'ἄπιστος': 1, 'Πυθία·εὖτε': 1, 'τράγος': 1, 'βούκολος': 1, 'Θέοκλος': 1, 'Ἀριστομένης': 1, ';': 1, 'Διαγορίδας': 1, 'Ῥόδος': 1, 'Μεσσήνη': 1, 'ἐπιτέλω': 1, 'ἀποκωλῦζω': 1, 'κακουργήσαντος': 1, 'ὑποδέχομαι': 1, 'ὑπάρχω': 1, 'ἀποδίδωμι': 1, 'Ἴρα': 1, 'Φάρει': 1, 'Τήλεκλος': 1, 'Ἰσμήνιος': 1, 'πρός': 1, 'συμβαλέω': 1, 'κοσμέω': 1, 'Ὀδρύσαι': 1, 'Στενύκληρος': 1, 'Ἠλέκτρα': 1, 'Κοῖος': 1, 'Βίας': 1, 'Κολαίνῳ': 1, 'κορυδός': 1, 'Ἀσιναῖος': 1, 'συγχωρέω': 1, 'Μοθωναῖος': 1, 'θύρσος': 1, 'Ἀέθλιος': 1, 'Ἡρακλεώτης': 1, 'Ἐνδυμίων': 1, 'Λάτμος': 1, 'κωλύω': 1, 'κυέω': 1, 'ὑποπτεύω': 1, 'ἡγέομαι': 1, 'εὐδαίμων': 1, 'Πιερία': 1, 'ξανθή': 1, 'ἐρίσειεν': 1, 'ἀποδέω': 1, 'κατασφάζω': 1, 'ὑφίστημι': 1, 'Λεπρεάτης': 1, 'Καύκων': 1, 'Ἰλιάς': 1, 'Ξενοφῶν': 1, 'προσοικέω': 1, 'Καλλιπάτειρα': 1, 'Ἀλφειός': 1, 'θηρευτής': 1, 'Ἀρχίας': 1, 'Αἰθιοπία': 1, 'ἐρίζω': 1, 'τληπόλεμος': 1, 'ἀναγορεύω': 1, 'κέραμος': 1, 'εὕρημα': 1, 'Βύζομαι': 1, 'Νάξιος': 1, 'Εὔεργος': 1, 'Ἀλυάττης': 1, 'Ἀστυάγης': 1, 'φιάλη': 1, 'μειράκιον': 1, 'τελευταῖος': 1, 'φρουρά': 1, 'ὀχέω': 1, 'ἡμίονος': 1, 'Νικομήδης': 1, 'Βιθυνός': 1, 'μσηκυνομένου': 1, 'προαγορεῦζω': 1, 'δύο': 1, 'ἱερεῖον': 1, 'ἐξελαύνω': 1, 'σπονδή': 1, 'ἐπεισάγω': 1, 'κτάομαι': 1, 'Φυσκόα': 1, 'Ναρκαῖος': 1, 'φοιτάω': 1, 'Σκύλλις': 1, 'Μέδων': 1, 'Αἰτωλός': 1, 'Κένταυρος': 1, 'παίγνιος': 1, 'δίσκος': 1, 'κλείω': 1, 'ἐκκομίζω': 1, 'κεραυνώσαντος': 1, 'χρῆμα': 1, 'ζημιόω': 1, 'ἐπίλοιπος': 1, 'Φιλόστρατος': 1, 'Ὀλυμπιάς': 1, 'συνίστημι': 1, 'Κόρκυρα': 1, 'συνθήκη': 1, 'πούς': 1, 'Μόμμιος': 1, 'κληρόω': 1, 'Ῥώμη': 1, 'Μεσσήνιος': 1, 'σχῆμα': 1, 'ἀπομιμέομαι': 1, 'μέτρον': 1, 'οὕτω·Φόρμις': 1, 'πύκτω': 1, 'σημαίνω': 1, 'ἐφεστήκω': 1, 'καταδικάω': 1, 'κατασκήπτω': 1, 'μελετάω': 1, 'Ἴων': 1, 'στεφανόω': 1, 'παγκράτιον': 1, 'Κνώσιος': 1, 'Διαγόρας': 1, 'Ἀκουσίλαος': 1, 'Κόνων': 1, 'Ἀνδροτίων': 1, 'ἐπινοήω': 1, 'Σωκράτης': 1, 'ἀλαζών': 1, 'εἶδος': 1, 'λύκος': 1, 'κίβδηλος': 1, 'στέφανος': 1, 'ἐλεγεῖος': 1, 'νίκη': 1, 'εἰσκομίζω': 1, 'ῥόα': 1, 'κατέχω': 1, 'ὦμος': 1, 'καθίημι': 1, 'ἀναδιδάσκω': 1, 'εἰσκαλέω': 1, 'Θεόδωρος': 1, 'Ὀλύνθιος': 1, 'Πύτταλος': 1, 'δίκη': 1, 'Γοργίας': 1, 'δεῖ': 1, 'ἐπικαλέω': 1, 'Ἀναξιμένης': 1, 'χαρίζομαι': 1, 'Λαμψακηνός': 1, 'κρηπίς': 1, 'παρήκω': 1, 'στρατιά': 1, 'αὐλίζομαι': 1, 'ἐρείπιος': 1, 'κακουργέω': 1, 'Ἅρπινα': 1, 'Τρικόλωνος': 1, 'Hom.': 1, '5.544κός': 1, 'ἐπιφέρω': 1, 'κάματος': 1, 'Πέτρα': 1, 'γέρων': 1, 'ἔρομαι': 1, 'Ὄξυλος': 1, 'συμμαχέω': 1, 'Σαμικός': 1, 'ἑορτή': 1, 'κατόμνυμι': 1, 'ἀποδέχω': 1, 'Αἰθίοψ': 1, 'τράπεζα': 1, 'ἄκρον': 1, 'Ἀθάμας': 1, 'ἀπόγονος': 1, 'Χῖος': 1, 'θηρεύω': 1, 'Ὠκεανός': 1, 'Ἐρυθραῖος': 1, 'ποιμήν': 1, 'συνέδριον': 1, 'Λυκόρτης': 1, 'ἀμφότερος': 1, 'διδασκαλία': 1, 'Καλλικράτης': 1, 'Γάλλος': 1, 'Ἑλληνικός': 1, 'ψυχαγωγέω': 1, 'ἄρχων': 1, 'ὀρθός': 1, 'Πλάτων': 1, 'Μεσάτης': 1, 'παρίημι': 1, 'Οἰνεύς': 1, 'Καλυδώνιος': 1, 'ἀπολείπω': 1, 'συμφορά': 1, 'κοινωνέω': 1, 'λύσις': 1, 'Καλλιρρόη': 1, 'Τρίτεια': 1, 'συγγένω': 1, 'ἀρχαῖος': 1, 'ῥίπτω': 1, 'αὐτίκα': 1, 'δεῖμα': 1, 'ἐπιδρομή': 1, 'ἱέρεια': 1, 'ἐκλειφθαίνω': 1, 'ἀσθένεια': 1, 'ὀκλάζω': 1, 'Πάλλας': 1, 'Φόρβας': 1, 'Τριόπας': 1, 'Πελληνεύς': 1, 'καθήκω': 1, 'βάθρον': 1, 'νότιος': 1, 'Νιόβη': 1, 'Σίπυλος': 1, 'κλαίω': 1, 'Καλλιστώ': 1, 'χάρις': 1, 'μάλα': 1, 'ἀποικίζω': 1, 'στρατοπεδεύω': 1, 'στέφω': 1, 'ποιμαίνω': 1, 'πάλαι': 1, 'Ἀντινόη': 1, 'Ἀγαμήδης': 1, 'κῦμα': 1, 'τρόπαιον': 1, 'Λεωκύδης': 1, 'ἔνατος': 1, 'ἔλαφος': 1, 'ψάλιον': 1, 'ψαλίος': 1, 'νεβρός': 1, 'Μαχαιρίων': 1, 'Φιγαλεύς': 1, 'Ἄμιλος': 1, 'ἐπαναβαίνω': 1, 'Φενεᾶτης': 1, 'γνώμη': 1, 'Ἰόλαος': 1, 'συγκάμνω': 1, 'τιτρώσκω': 1, 'ἐπείγω': 1, 'κατακοντίζω': 1, 'πέλαγος': 1, 'Γερόντειον': 1, 'Τρίκρηνα': 1, 'Αἴπυτος': 1, 'Κυλλήνη': 1, 'κόσσυφος': 1, 'ἀπιστέω': 1, 'μηδείς': 1, 'αἴξ': 1, 'πίνω': 1, 'πρόσειμι': 1, 'κατάγω': 1, 'Λουσοί': 1, 'εἴτε': 1, 'Οἰνόμαος': 1, 'κίχλῃ': 1, 'ἰχθύς': 1, 'Στυμφάλιος': 1, 'στόμα': 1, 'μοῖρα': 1, 'Κυμαῖοι': 1, 'ὀδούς': 1, 'μέτειμι': 1, 'Ψωφίς': 1, 'Ἀκαρνάν': 1, 'Φηγεύς': 1, 'ὅρμος': 1, 'Θελπούση': 1, 'πλανάω': 1, 'ζητέω': 1, 'ἕπομαι': 1, 'ἀτέλεστος': 1, 'αἰτέω': 1, 'Τρυγών': 1, 'Ἀλιφηρεύς': 1, 'Βουφάγος': 1, 'τοξεύω': 1, 'αἰχμή': 1, 'ἀποτρέπω': 1, 'Τεῦθις': 1, 'παίω': 1, 'γένος': 1, 'Θῶκνος': 1, 'Σινόη': 1, 'ἁμάρτημα': 1, 'Μεγαλοπολίτης': 1, 'μίμημα': 1, 'κεραυνόω': 1, 'ἀθροίζω': 1, 'ἀριστερός': 1, 'Τρικολώνης': 1, 'Μεθύδριον': 1, 'ἐπακροάομαι': 1, 'συρίζονς': 1, 'ἐξευρίσκω': 1, 'ὀρύσσω': 1, 'Ἄνυτος': 1, 'ἀξιόχρης': 1, 'Θελπούσα': 1, 'μῖξις': 1, 'θυμός': 1, 'πένθος': 1, 'ἀπορρήγνυμι': 1, 'ἀνακομίζω': 1, 'Ἀφείδας': 1, 'Λευκώνη': 1, 'δωρεά': 1, 'ἐντεῦθεν': 1, 'καταποντόω': 1, 'διδάσκαλος': 1, 'ὁμιλέω': 1, 'Ἔκδηλος': 1, 'μαθητής': 1, 'Τιμόλαος': 1, 'ὑποσημαίνω': 1, 'τιμωρέω': 1, 'Σκέφρου': 1, 'ἐνείδω': 1, 'Ὠερόη': 1, 'Θηβαΐς': 1, 'ἔκτηνος': 1, 'ὕω': 1, 'πιούω': 1, 'χορδός': 1, 'ἔσοδος': 1, 'Σκόπης': 1, 'Πύρρα': 1, 'Κρέων': 1, 'Τήνερος': 1, 'Τηνέρῳ': 1, 'ἐπιδείκνυμι': 1, 'Στησίχορος': 1, 'κυβερνάω': 1, 'ἐφίημι': 1, 'Πολύδωρος': 1, 'τέρπω': 1, 'πολεμόω': 1, 'ἐξέσωσεν': 1, '”': 1, 'οἰκία': 1, 'φανερός': 1, 'ἐρείπιον': 1, 'ἀλλήλων': 1, 'Ἀνδρόκλεια': 1, 'Ὀρχομένιος': 1, 'Φῶκος': 1, 'Βάκις': 1, 'ἐπίφθονος': 1, 'πως': 1, 'ἐκστᾶζω': 1, 'ἀποκόπτω': 1, 'ὅπου': 1, 'Χαιρησίλαος': 1, 'ὀσμή': 1, 'ἔφηβος': 1, 'δυναστεῦννυμι': 1, 'πλέω': 1, 'μαντικός': 1, 'ὄνειρος': 1, 'Σίσυφος': 1, 'Μενοικεύς': 1, 'Πελαργή': 1, 'ὄργιον': 1, 'μεταφέρω': 1, 'ὅθεν': 1, 'ὁρμάω': 1, 'νόθη': 1, 'Θέσπια': 1, 'Κλεοστράτῳ': 1, 'ἐπιτεχνήομαι': 1, 'ἔρως': 1, 'Θεσπιεῦσις': 1, 'αὖθις': 1, 'ἐπιτρέπω': 1, 'Ἑλικών': 1, 'ἅπας': 1, 'φύω': 1, 'Ἐφιάλτη': 1, '—θυγατέρας': 1, 'Εὐφήμη': 1, 'Μοῦσα': 1, 'ἡδύς': 1, 'Εὔριπος': 1, 'Ἡσίοδος': 1, 'παρειλημμένα': 1, 'προοίμιον': 1, 'Ἔρις': 1, 'διδαχθίημι': 1, 'ἐξηγήσω': 1, 'ἐναντίος': 1, 'ἥσσων': 1, 'γνώριμος': 1, 'Θίσβη': 1, 'αὐχμηρά': 1, 'ἐπείρομαι': 1, 'Ἰοδάμας': 1, 'νύκτωρ': 1, 'ἐποικῆζω': 1, 'Ἐτεοκλέης': 1, 'Τροφώνιος': 1, 'Ἐργίνου': 1, 'Ἀκταίων': 1, 'Ἕρκυνη': 1, 'ἀναφαίνω': 1, 'ἐκβάλλω': 1, 'ἀξιόλογος': 1, 'Αἴολος': 1, 'Ἄρνη': 1, 'The': 1, 'καθότι': 1, 'Νεῖλος': 1, 'Μακεδών': 1, 'ποίημα': 1, 'Ἀμαθοῦς': 1, 'ἐξεργάζομαι': 1, 'ἐπιτήδειος': 1, 'παρέρχομαι': 1, 'Ἱπποκράτης': 1, 'ἰατρός': 1, 'κατοικέω': 1, 'Πανοπεύς': 1, 'πλασθῆναι': 1, 'Δαυλίς': 1, 'Φωκεύς': 1, 'Δαυλιεῦσι': 1, 'ἐπάγω': 1, 'ἀντιδοῦνή': 1, 'δεύτερος': 1, 'μέλισσα': 1, 'κηρός': 1, 'τακῆναι': 1, 'Κελαινὼ': 1, 'Κελαινώ': 1, 'σηπόμενα': 1, 'Καρμάνωρ': 1, 'ἀπελόα': 1, 'κιθαρίζω': 1, 'ἐπιχωρία': 1, 'περήσαςἵκομαι': 1, 'μυκάω': 1, 'προθεσπίζω': 1, 'ἐκπίπτω': 1, 'Σίβυλλα': 1, 'μαινομένη': 1, 'ἑτέρωθι': 1, 'γεγαυῖα': 1, 'μέσος': 1, 'ἀθανάτης': 1, 'ἐρυθρήΜάρπησσος': 1, 'ἱερός': 1, 'ᾍδης': 1, 'ἔπη·εἰμὶ': 1, 'Φημονόης': 1, 'ἔπη·Ζεύς': 1, 'ἐμός': 1, 'Ἀνδρεύς': 1, 'ἀρνέομαι': 1, 'στερεός': 1, 'αὐδάω': 1, 'ταῦρος': 1, 'προσείρηκε': 1, 'κατακλάω': 1, 'Κυρήνη': 1, 'Ἀρισταῖος': 1, 'Νώραξ': 1, 'γελάω': 1, 'ἐπιγίγνομαι': 1, 'ὁπόση': 1, 'Κασσοτίς': 1, 'Κρεούσης': 1, 'ἐρύω': 1, 'Δήλιος': 1, 'κάθημαι': 1, 'ὁπότε': 1, 'Φαίαξ': 1, 'Τιθορεύς': 1, 'ἀπωτέρω': 1, 'ὀρεινός': 1, 'ἐπιστράτεια': 1, 'πενθέω': 1, 'Ἀμφικλειεύς': 1, 'ἰάομαι': 1, 'ἀμύνω': 1, 'Λυγκεύς': 1, 'νόσος': 1, 'πίων': 1, 'ἐκτρέφομαι': 1, 'Βούλιος': 1, 'Κίρρα': 1, 'αὐτόχθων': 1, 'πω': 1, 'σύν': 1, 'Γόργης': 1, 'Ἄναξ': 1, 'Καβείρος': 1})\n"
     ]
    }
   ],
   "source": [
    "from collections import Counter\n",
    "\n",
    "dependency = []\n",
    "\n",
    "for doc in pausanias_df['nlp_docs']:\n",
    "    for test_token in doc:\n",
    "        if test_token.lemma_ == \"λέγω\":\n",
    "            dependency += [c.lemma_ for c in test_token.children]\n",
    "            \n",
    "        \n",
    "count = Counter (dependency)\n",
    "print(count)"
   ]
  },
  {
   "cell_type": "markdown",
   "metadata": {},
   "source": [
    "Notice that we're also accessing the `lemma_` property here. Because Greek is heavily inflected, we'll tend to focus on collocations of lemmata, rather than types -- but you might find in your own work that it is interesting to look at type collocations instead. Just be sure to note which kind of \"word\" you're examining."
   ]
  },
  {
   "cell_type": "markdown",
   "metadata": {},
   "source": [
    "### Frequency of co-occurrence\n",
    "\n",
    "The frequency of co-occurrence reports the presence of both a **node** (`w1`) and a **collocate** (`w2`). Given a DataFrame like `pausanias_df`, we can calculate the frequency of co-occurrence in two different ways. \n",
    "\n",
    "We can either count when the collocate is a dependency of the node, like so:"
   ]
  },
  {
   "cell_type": "code",
   "execution_count": 21,
   "metadata": {},
   "outputs": [
    {
     "data": {
      "text/plain": [
       "13"
      ]
     },
     "execution_count": 21,
     "metadata": {},
     "output_type": "execute_result"
    }
   ],
   "source": [
    "node = 'ἄγαλμα'\n",
    "collocate = 'μέγας'\n",
    "\n",
    "def count_dependency_collocations(x, w1, w2):\n",
    "    w2_is_child_of_w1 = len([t for t in x if t.lemma_ == w1 and w2 in [tt.lemma_ for tt in t.children]])\n",
    "\n",
    "    return w2_is_child_of_w1\n",
    "\n",
    "pausanias_df['agalma_megas_dependencies'] = pausanias_df['nlp_docs'].apply(count_dependency_collocations, args=(node, collocate))\n",
    "\n",
    "observed_dep_freq_agalma_megas = pausanias_df[pausanias_df['agalma_megas_dependencies'] > 0].shape[0]\n",
    "\n",
    "observed_dep_freq_agalma_megas"
   ]
  },
  {
   "cell_type": "code",
   "execution_count": 52,
   "metadata": {},
   "outputs": [
    {
     "data": {
      "text/plain": [
       "51"
      ]
     },
     "execution_count": 52,
     "metadata": {},
     "output_type": "execute_result"
    }
   ],
   "source": [
    "node = 'λέγω'\n",
    "collocate = 'ποιέω'\n",
    "\n",
    "def count_dependency_collocations(x, w1, w2):\n",
    "    w2_is_child_of_w1 = len([t for t in x if t.lemma_ == w1 and w2 in [tt.lemma_ for tt in t.children]])\n",
    "\n",
    "    return w2_is_child_of_w1\n",
    "\n",
    "pausanias_df['legο_poieo_dependencies'] = pausanias_df['nlp_docs'].apply(count_dependency_collocations, args=(node, collocate))\n",
    "\n",
    "observed_dep_freq_lego_poieo = pausanias_df[pausanias_df['legο_poieo_dependencies'] > 0].shape[0]\n",
    "\n",
    "observed_dep_freq_lego_poieo"
   ]
  },
  {
   "cell_type": "markdown",
   "metadata": {},
   "source": [
    "Or we can count when the collocate and node co-occur within a given window, as follows:"
   ]
  },
  {
   "cell_type": "code",
   "execution_count": 4,
   "metadata": {},
   "outputs": [
    {
     "data": {
      "text/plain": [
       "17"
      ]
     },
     "execution_count": 4,
     "metadata": {},
     "output_type": "execute_result"
    }
   ],
   "source": [
    "def count_ngram_collocations(x, w1, w2, l_size: int = 1, r_size: int = 1):\n",
    "    lemmata = [t.lemma_ for t in x]\n",
    "\n",
    "    # the right-hand side of a slice in Python is exclusive, so we add 1 to make sure\n",
    "    # we're actually getting one element to the right\n",
    "    chunked_lemmata = [lemmata[i - l_size:i + r_size + 1] for i in range(0, len(lemmata))]\n",
    "\n",
    "    cooccurrences = [1 for l in chunked_lemmata if w1 in l and w2 in l]\n",
    "\n",
    "    return sum(cooccurrences)\n",
    "\n",
    "pausanias_df['agalma_megas_1l-1r'] = pausanias_df['nlp_docs'].apply(count_ngram_collocations, args=(node, collocate))\n",
    "\n",
    "observed_1l_1r_freq_agalma_megas = pausanias_df[pausanias_df['agalma_megas_1l-1r'] > 0].shape[0]\n",
    "\n",
    "observed_1l_1r_freq_agalma_megas\n"
   ]
  },
  {
   "cell_type": "code",
   "execution_count": 53,
   "metadata": {},
   "outputs": [
    {
     "data": {
      "text/plain": [
       "20"
      ]
     },
     "execution_count": 53,
     "metadata": {},
     "output_type": "execute_result"
    }
   ],
   "source": [
    "def count_ngram_collocations(x, w1, w2, l_size: int = 1, r_size: int = 1):\n",
    "    lemmata = [t.lemma_ for t in x]\n",
    "\n",
    "    # the right-hand side of a slice in Python is exclusive, so we add 1 to make sure\n",
    "    # we're actually getting one element to the right\n",
    "    chunked_lemmata = [lemmata[i - l_size:i + r_size + 1] for i in range(0, len(lemmata))]\n",
    "\n",
    "    cooccurrences = [1 for l in chunked_lemmata if w1 in l and w2 in l]\n",
    "\n",
    "    return sum(cooccurrences)\n",
    "\n",
    "pausanias_df['lego_poieo_1l-1r'] = pausanias_df['nlp_docs'].apply(count_ngram_collocations, args=(node, collocate))\n",
    "\n",
    "observed_1l_1r_freq_lego_poieo = pausanias_df[pausanias_df['lego_poieo_1l-1r'] > 0].shape[0]\n",
    "\n",
    "observed_1l_1r_freq_lego_poieo"
   ]
  },
  {
   "cell_type": "markdown",
   "metadata": {},
   "source": [
    "We can see above that a 1L, 1R window detects 17 collocations of ἄγαλμα and μέγας, 4 *more* than we detected as dependencies. Remember, these collocations aren't necessarily related grammatically anymore, but it's interesting to see how the count changes. Let's try with a larger window:"
   ]
  },
  {
   "cell_type": "code",
   "execution_count": 5,
   "metadata": {},
   "outputs": [
    {
     "data": {
      "text/plain": [
       "27"
      ]
     },
     "execution_count": 5,
     "metadata": {},
     "output_type": "execute_result"
    }
   ],
   "source": [
    "pausanias_df['agalma_megas_2l-2r'] = pausanias_df['nlp_docs'].apply(count_ngram_collocations, args=(node, collocate, 2, 2))\n",
    "\n",
    "observed_2l_2r_freq_agalma_megas = pausanias_df[pausanias_df['agalma_megas_2l-2r'] > 0].shape[0]\n",
    "\n",
    "observed_2l_2r_freq_agalma_megas"
   ]
  },
  {
   "cell_type": "code",
   "execution_count": 54,
   "metadata": {},
   "outputs": [
    {
     "data": {
      "text/plain": [
       "39"
      ]
     },
     "execution_count": 54,
     "metadata": {},
     "output_type": "execute_result"
    }
   ],
   "source": [
    "pausanias_df['lego_poieo_2l-2r'] = pausanias_df['nlp_docs'].apply(count_ngram_collocations, args=(node, collocate, 2, 2))\n",
    "\n",
    "observed_2l_2r_freq_lego_poieo = pausanias_df[pausanias_df['lego_poieo_2l-2r'] > 0].shape[0]\n",
    "\n",
    "observed_2l_2r_freq_lego_poieo"
   ]
  },
  {
   "cell_type": "markdown",
   "metadata": {},
   "source": [
    "You can experiment in your own notebooks by adjusting the `l_size` and `r_size` args passed to the `count_ngram_collocations` function."
   ]
  },
  {
   "cell_type": "markdown",
   "metadata": {},
   "source": [
    "### Evert's μ (Mu)\n",
    "\n",
    "(Brezina never, as far as I can tell, defines this term, and confusingly refers to it with capital letters. I'm still trying to figure out why he does this.)\n",
    "\n",
    "Stephanie<sup>*</sup> @Evert2005 [54] defines μ as follows:\n",
    "\n",
    "> For μ > 1 we speak of positive association (where the components are more likely to occur together than if they were independent), and for μ < 1 we speak of negative association (where the components are less likely to occur together than if they were independent).\n",
    "\n",
    "She adds the following in a note:\n",
    "\n",
    "> The letter μ is intended to be reminiscent of _mutual information_, since the quantity log(μ) can be interpreted as point-wise mutual information. I have avoided using this term for μ, though, so as not to confuse information theory with population parameters.\n",
    "\n",
    "In other words, μ says that f the ratio is greater than 1, the words co-appear more frequently than expected.\n",
    "\n",
    "We calculate μ by taking the ratio of the **observed** frequency (represented by O11 in a contingency table) and **expected** frequency (E11).\n",
    "\n",
    "\n",
    "<sup>*</sup> Note that you might find references to Stephanie Evert's work (including the 2005 doctoral thesis cited above) under her former name, Stefan Evert.\n",
    "\n",
    "#### Observed Frequency\n",
    "\n",
    "As discussed above, we're calculating observed frequency of collocation by looking at dependency trees. This is a somewhat more complicated procedure than simply looking to the left and right of a word, and we'll need to account for it when we calculate the **random co-occurrence baseline**, the result of which is the **expected frequency of collocation**.\n",
    "\n",
    "#### Expected Frequency \n",
    "\n",
    "Expected frequency is calculated by taking the frequency of the **node** in the entire corpus times the frequency of the **collocate**, divided by the number of tokens in the corpus.\n",
    "\n",
    "Without any corrections, this method assumes that the tokens co-occur right next to each other (either before or after, but not both). To correct for the greater probability of the tokens co-occurring when we are not looking at immediate adjacency, we mutliply the numerator in this equation by the **window size**.\n",
    "\n",
    "_However_, the use of syntactic dependency trees obviates this correction: window size would mean something like the number of adjacent treebanks to check for a collocation, which would be linguistically meaningless.\n",
    "\n",
    "Window size is thus a correction for doing n-gram–based analyses of collocations."
   ]
  },
  {
   "cell_type": "code",
   "execution_count": 43,
   "metadata": {},
   "outputs": [
    {
     "name": "stdout",
     "output_type": "stream",
     "text": [
      "μ for ἄγαλμα with dependency μέγας: 2.24182941781989\n",
      "\n",
      "μ for ἄγαλμα and μέγας in a 1L, 1R window: 2.9316230848413944\n"
     ]
    }
   ],
   "source": [
    "\n",
    "from collections import Counter\n",
    "import pandas as pd\n",
    "\n",
    "def expected_frequency_of_collocation(df: pd.DataFrame, node: str, collocate: str, window_size: int = 1):\n",
    "    \"\"\"\n",
    "    `node` and `collocate` should be the string representations\n",
    "    of the associated lemmata\n",
    "    \"\"\"\n",
    "\n",
    "    lemmata = [t.lemma_ for t in df['nlp_docs'].explode()]\n",
    "    counter = Counter(lemmata)\n",
    "    node_count = counter[node]\n",
    "    collocate_count = counter[collocate]\n",
    "\n",
    "    return (node_count * collocate_count * window_size) / len(lemmata)\n",
    "\n",
    "expected_freq_agalma_megas = expected_frequency_of_collocation(pausanias_df, node, collocate)\n",
    "\n",
    "mu_deps = observed_dep_freq_agalma_megas / expected_freq_agalma_megas\n",
    "mu_1l_1r = observed_1l_1r_freq_agalma_megas / expected_freq_agalma_megas\n",
    "\n",
    "print(f\"μ for ἄγαλμα with dependency μέγας: {mu_deps}\\n\\nμ for ἄγαλμα and μέγας in a 1L, 1R window: {mu_1l_1r}\")"
   ]
  },
  {
   "cell_type": "code",
   "execution_count": 55,
   "metadata": {},
   "outputs": [
    {
     "name": "stdout",
     "output_type": "stream",
     "text": [
      "μ for λέγω with dependency ποιέω: 8.794869254524183\n",
      "\n",
      "μ for λέγω and ποιέω in a 1L, 1R window: 3.448968335107523\n"
     ]
    }
   ],
   "source": [
    "\n",
    "from collections import Counter\n",
    "import pandas as pd\n",
    "\n",
    "def expected_frequency_of_collocation(df: pd.DataFrame, node: str, collocate: str, window_size: int = 1):\n",
    "    \"\"\"\n",
    "    `node` and `collocate` should be the string representations\n",
    "    of the associated lemmata\n",
    "    \"\"\"\n",
    "\n",
    "    lemmata = [t.lemma_ for t in df['nlp_docs'].explode()]\n",
    "    counter = Counter(lemmata)\n",
    "    node_count = counter[node]\n",
    "    collocate_count = counter[collocate]\n",
    "\n",
    "    return (node_count * collocate_count * window_size) / len(lemmata)\n",
    "\n",
    "expected_freq_lego_poieo = expected_frequency_of_collocation(pausanias_df, node, collocate)\n",
    "\n",
    "mu_deps = observed_dep_freq_lego_poieo / expected_freq_lego_poieo\n",
    "mu_1l_1r = observed_1l_1r_freq_lego_poieo / expected_freq_lego_poieo\n",
    "\n",
    "print(f\"μ for λέγω with dependency ποιέω: {mu_deps}\\n\\nμ for λέγω and ποιέω in a 1L, 1R window: {mu_1l_1r}\")"
   ]
  },
  {
   "cell_type": "markdown",
   "metadata": {},
   "source": [
    "### Mutual Information (MI)\n",
    "\n",
    "Mutual information measures how much the appearance of one word in our collocate pair suggests the appearance of the other word. We can calculate it by taking the log<sub>2</sub> of `mu` (observed / expected frequency)."
   ]
  },
  {
   "cell_type": "code",
   "execution_count": 44,
   "metadata": {},
   "outputs": [
    {
     "data": {
      "text/plain": [
       "1.1646765067660212"
      ]
     },
     "execution_count": 44,
     "metadata": {},
     "output_type": "execute_result"
    }
   ],
   "source": [
    "import math\n",
    "\n",
    "mutual_information_agalma_megas_deps = math.log(mu_deps, 2)\n",
    "\n",
    "mutual_information_agalma_megas_deps"
   ]
  },
  {
   "cell_type": "code",
   "execution_count": 56,
   "metadata": {},
   "outputs": [
    {
     "data": {
      "text/plain": [
       "3.136662130596425"
      ]
     },
     "execution_count": 56,
     "metadata": {},
     "output_type": "execute_result"
    }
   ],
   "source": [
    "import math\n",
    "\n",
    "mutual_information_lego_poieo_deps = math.log(mu_deps, 2)\n",
    "\n",
    "mutual_information_lego_poieo_deps"
   ]
  },
  {
   "cell_type": "code",
   "execution_count": 45,
   "metadata": {},
   "outputs": [
    {
     "data": {
      "text/plain": [
       "1.5516996298752685"
      ]
     },
     "execution_count": 45,
     "metadata": {},
     "output_type": "execute_result"
    }
   ],
   "source": [
    "mutual_information_agalma_megas_1l_1r = math.log(mu_1l_1r, 2)\n",
    "mutual_information_agalma_megas_1l_1r"
   ]
  },
  {
   "cell_type": "code",
   "execution_count": 57,
   "metadata": {},
   "outputs": [
    {
     "data": {
      "text/plain": [
       "1.7861648835122916"
      ]
     },
     "execution_count": 57,
     "metadata": {},
     "output_type": "execute_result"
    }
   ],
   "source": [
    "mutual_information_lego_poieo_1l_1r = math.log(mu_1l_1r, 2)\n",
    "mutual_information_lego_poieo_1l_1r"
   ]
  },
  {
   "cell_type": "markdown",
   "metadata": {},
   "source": [
    "A value greater than 1 indicates that the presence of the node -- in this demo, ἄγαλμα -- implies the presence of the collocate -- here, μέγας.\n",
    "\n",
    "Does the same hold true in the other direction, that is, when ἄγαλμα is a dependent of μέγας?"
   ]
  },
  {
   "cell_type": "code",
   "execution_count": 49,
   "metadata": {},
   "outputs": [
    {
     "name": "stdout",
     "output_type": "stream",
     "text": [
      "5.798835494201918\n"
     ]
    },
    {
     "data": {
      "text/plain": [
       "1.9236684072622265"
      ]
     },
     "execution_count": 49,
     "metadata": {},
     "output_type": "execute_result"
    }
   ],
   "source": [
    "pausanias_df['megas_agalma_collocations'] = pausanias_df['nlp_docs'].apply(count_dependency_collocations, args=(collocate, node))\n",
    "\n",
    "observed_freq_megas_agalma = pausanias_df[pausanias_df['megas_agalma_collocations'] > 0].shape[0]\n",
    "\n",
    "\n",
    "## Note that the expected frequency does not change depending on which direction the dependency goes\n",
    "mu = observed_freq_megas_agalma / expected_freq_agalma_megas\n",
    "\n",
    "mutual_information_megas_agalma = math.log(mu, 2)\n",
    "\n",
    "mutual_information_megas_agalma"
   ]
  },
  {
   "cell_type": "code",
   "execution_count": 50,
   "metadata": {},
   "outputs": [
    {
     "data": {
      "text/plain": [
       "1.9236684072622265"
      ]
     },
     "execution_count": 58,
     "metadata": {},
     "output_type": "execute_result"
    }
   ],
   "source": [
    "pausanias_df['lego_poieo_collocations'] = pausanias_df['nlp_docs'].apply(count_dependency_collocations, args=(collocate, node))\n",
    "\n",
    "observed_freq_lego_poieo = pausanias_df[pausanias_df['lego_poieo_collocations'] > 0].shape[0]\n",
    "\n",
    "## Note that the expected frequency does not change depending on which direction the dependency goes\n",
    "mu = observed_freq_lego_poieo / expected_freq_lego_poieo\n",
    "\n",
    "mutual_information_lego_poieo = math.log(mu, 2)\n",
    "\n",
    "mutual_information_lego_poieo"
   ]
  },
  {
   "cell_type": "markdown",
   "metadata": {},
   "source": [
    "### Delta P\n",
    "Translated into English, Delta P looks for:\n",
    "\n",
    "The observed frequency of the collocate pair in the corpus (O11), divided by the frequency of the node in the corpus (R1)\n",
    "minus the observed frequency of the collocate without the node in the corpus (O21), divided by the tokens that are not the node in the corpus (R2)\n",
    "AND\n",
    "\n",
    "The observed frequency of the collocate pair (O11), divided by the frequency of the collocate in the corpus (C1)\n",
    "minus the observed frequency of the node without the collocate (O12), divided by the tokens that are not the collocate (C2)\n",
    "Notice that it does not take expected frequencies into account."
   ]
  },
  {
   "cell_type": "code",
   "execution_count": 59,
   "metadata": {},
   "outputs": [
    {
     "data": {
      "text/plain": [
       "0.005258439747128783"
      ]
     },
     "execution_count": 59,
     "metadata": {},
     "output_type": "execute_result"
    }
   ],
   "source": [
    "node = \"λέγω\"\n",
    "collocate = \"ποιέω\"\n",
    "\n",
    "def count_ngram_collocations(x, w1, w2, l_size: int = 1, r_size: int = 1):\n",
    "    lemmata = [t.lemma_ for t in x]\n",
    "\n",
    "    indexes = [i for i, lemma in enumerate(lemmata) if lemma == w1]\n",
    "\n",
    "    cooccurrences = 0\n",
    "\n",
    "    for i in indexes:\n",
    "        left = max(i - l_size, 0)\n",
    "        right = min(i + r_size + 1, len(lemmata))\n",
    "        window = lemmata[left:right]\n",
    "\n",
    "        if w2 in window:\n",
    "            cooccurrences += 1\n",
    "            \n",
    "    return cooccurrences\n",
    "\n",
    "pausanias_df['o11_lego_poieo_ngrams'] = pausanias_df['nlp_docs'].apply(count_ngram_collocations, args=(node, collocate))\n",
    "\n",
    "o11 = pausanias_df['o11_lego_poieo_ngrams'].sum()\n",
    "\n",
    "all_tokens = pausanias_df['nlp_docs'].explode()\n",
    "\n",
    "r1 = len([t for t in all_tokens if t.lemma_ == node])\n",
    "r2 = len(all_tokens) - r1\n",
    "c1 = len([t for t in all_tokens if t.lemma_ == collocate])\n",
    "o21 = c1 - o11\n",
    "\n",
    "(o11 / r1) - (o21 / r2)\n"
   ]
  },
  {
   "cell_type": "markdown",
   "metadata": {},
   "source": [
    "Here we find that the appearance of μέγας slightly implies the non-appearance of ἄγαλμα among its dependencies. This makes sense: μέγας is an adjective, and we wouldn't expect it to govern a noun."
   ]
  },
  {
   "cell_type": "markdown",
   "metadata": {},
   "source": [
    "The other association measures covered by Brezina tend to be variations on this theme, using mostly the same inputs with adjustments to the weights to make the calculation more or less sensitive to the collocate pair's **exclusivity**.\n",
    "\n",
    "> Discuss: Define \"exclusivity\" in the context of collocations.\n",
    "\n",
    "\n",
    "## Directionality and Dispersion\n",
    "\n",
    "If we want to measure the **directionality** of the association, however, we need to use a calculation like **Delta P**, which reports two statistics: one for the predictability of the node with respect to the collocate, and one for the predictability of the collocate to the node.\n",
    "\n",
    "\n",
    "\n",
    "### Dispersion\n",
    "\n",
    "Dispersion can be measured in the pretty much the same way as in Section 2.4 of @Brezina2018: \n",
    "\n",
    "1. Divide the corpus into chunks (size doesn't matter as long as you normalize by corpus length). \n",
    "2. Calculate the expected proportions: (# tokens in chunk / window size) / (# tokens in corpus / window size)\n",
    "3. Calculate observed proportions of collocation: (# of cols. in chunk) / (# of cols. in corpus)\n",
    "\n",
    "From here, you have all the information you need to calculate the Deviation of Proportions (DP).\n",
    "\n",
    "You can also calculate Cohen's *d*:\n",
    "\n",
    "- Let X be the mean of the frequencies of the collocation in each chunk\n",
    "- Let Y be the mean of the frequencies in each chunk where either the node or collocate is absent\n",
    "  - i.e., Y = the mean of the frequencies of the node or collocate minus the number of collocations in a given chunk\n",
    "- Let S<sub>X</sub> be the standard deviation of the frequencies used in X\n",
    "- Let S<sub>Y</sub> be the standard deviation of the frequencies used in Y\n",
    "\n",
    "\n",
    "d = (X - Y) / sqrt((S<sub>X</sub><sup>2</sup> + S<sub>Y</sub><sup>2</sup>) / 2)\n"
   ]
  },
  {
   "cell_type": "markdown",
   "metadata": {},
   "source": [
    "## Exercises\n",
    "\n",
    "You may work in groups for these exercises. They are due at the beginning of next class. You can submit them as a link to a Colab notebook or GitHub CodeSpace.\n",
    "\n",
    "0. Use the corpora that you assembled last week (Pausanias++):\n",
    "1. Using programming techniques from the course so far, find other potential collocates for a word of your choice.\n",
    "2. Calculate the μ and Mutual Information scores for at least 5 of these collocate pairs. How do your results change depending on your definition of a collocation? What might these changes mean? (Write your answers to these questions down.)\n",
    "3. Calculate the Delta P for these same five pairs. Do any results stand out? Why? What might they tell us about your corpus."
   ]
  }
 ],
 "metadata": {
  "kernelspec": {
   "display_name": "intro-qta",
   "language": "python",
   "name": "python3"
  },
  "language_info": {
   "codemirror_mode": {
    "name": "ipython",
    "version": 3
   },
   "file_extension": ".py",
   "mimetype": "text/x-python",
   "name": "python",
   "nbconvert_exporter": "python",
   "pygments_lexer": "ipython3",
   "version": "3.12.5"
  }
 },
 "nbformat": 4,
 "nbformat_minor": 2
}
