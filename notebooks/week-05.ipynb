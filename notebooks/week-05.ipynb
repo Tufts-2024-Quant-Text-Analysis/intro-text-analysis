{
 "cells": [
  {
   "cell_type": "markdown",
   "metadata": {},
   "source": [
    "# Lexico-grammatical features and statistical significance"
   ]
  },
  {
   "cell_type": "markdown",
   "metadata": {},
   "source": [
    "\n",
    "## Cross-tabulation, Percentages, and Chi-squared Test (@Brezina2018 4.3)\n",
    "\n",
    "### Cross-tabulation\n",
    "\n",
    "### Chi-squared\n",
    "\n",
    "```\n",
    "χ<sup>2</sup> = sum_for_all_cells((observed_freq - expected_freq)^2 / expected_freq)\n",
    "```"
   ]
  }
 ],
 "metadata": {
  "language_info": {
   "name": "python"
  }
 },
 "nbformat": 4,
 "nbformat_minor": 2
}
