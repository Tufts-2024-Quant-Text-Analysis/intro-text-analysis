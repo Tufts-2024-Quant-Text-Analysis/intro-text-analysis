{
 "cells": [
  {
   "cell_type": "code",
   "execution_count": null,
   "metadata": {},
   "outputs": [],
   "source": [
    "n_son "
   ]
  },
  {
   "cell_type": "code",
   "execution_count": null,
   "metadata": {},
   "outputs": [],
   "source": [
    "#relative frequency for son in homer\n",
    "n_son_homer = len(son_homer)\n",
    "n_homer_tokens = len([t for t in homer_df['nlp_docs'].explode()])\n",
    "basis = 100,000\n",
    "\n",
    "rf_son_in_homer = (n_son_homer / n_homer_tokens) * basis\n",
    "\n",
    "print(rf_son_in_homer)"
   ]
  },
  {
   "cell_type": "code",
   "execution_count": null,
   "metadata": {},
   "outputs": [],
   "source": [
    "#relative frequency of son in pausanias\n",
    "n_son_pausanias = len(son_pausanias)\n",
    "n_pausanias_tokens = len([t for t in pausanias_df['nlp_docs'].explode()])\n",
    "basis = 100_000\n",
    "\n",
    "rf_son_in_pausanias = (n_son_pausanias / n_pausanias_tokens) * basis\n",
    "\n",
    "print(rf_son_in_homer)"
   ]
  },
  {
   "cell_type": "code",
   "execution_count": null,
   "metadata": {},
   "outputs": [],
   "source": [
    "eng_nlp = spacy.load(\"en_core_web_sm\")\n",
    "doc = nlp(homer_df)\n",
    "tokens = [t for t in doc if t.is_alpha]\n",
    "types = set([t.text for t in tokens])\n",
    "\n",
    "homer_ttr = len(types_homer) / len(n_homer_tokens)\n",
    "\n",
    "homer_ttr"
   ]
  }
 ],
 "metadata": {
  "kernelspec": {
   "display_name": "base",
   "language": "python",
   "name": "python3"
  },
  "language_info": {
   "codemirror_mode": {
    "name": "ipython",
    "version": 3
   },
   "file_extension": ".py",
   "mimetype": "text/x-python",
   "name": "python",
   "nbconvert_exporter": "python",
   "pygments_lexer": "ipython3",
   "version": "3.11.9"
  }
 },
 "nbformat": 4,
 "nbformat_minor": 2
}
